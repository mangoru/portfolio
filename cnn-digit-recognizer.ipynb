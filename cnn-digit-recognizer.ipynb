{
 "cells": [
  {
   "cell_type": "code",
   "execution_count": 1,
   "outputs": [],
   "source": [
    "import numpy as np\n",
    "import pandas as pd\n",
    "import matplotlib.pyplot as plt\n",
    "\n",
    "import tensorflow as tf\n",
    "from tensorflow import keras\n",
    "from keras import layers\n",
    "from keras.utils.vis_utils import plot_model\n",
    "from keras.utils.np_utils import to_categorical\n",
    "\n",
    "from sklearn.model_selection import train_test_split\n",
    "import seaborn as sns"
   ],
   "metadata": {
    "collapsed": false,
    "pycharm": {
     "name": "#%%\n"
    }
   }
  },
  {
   "cell_type": "code",
   "execution_count": 7,
   "id": "447dd57e",
   "metadata": {
    "execution": {
     "iopub.execute_input": "2022-03-09T15:17:05.972982Z",
     "iopub.status.busy": "2022-03-09T15:17:05.972244Z",
     "iopub.status.idle": "2022-03-09T15:17:05.976445Z",
     "shell.execute_reply": "2022-03-09T15:17:05.976967Z",
     "shell.execute_reply.started": "2022-03-04T07:49:05.685415Z"
    },
    "papermill": {
     "duration": 0.025093,
     "end_time": "2022-03-09T15:17:05.977139",
     "exception": false,
     "start_time": "2022-03-09T15:17:05.952046",
     "status": "completed"
    },
    "tags": [],
    "pycharm": {
     "name": "#%%\n"
    }
   },
   "outputs": [],
   "source": [
    "class Config:\n",
    "    PATH_TRAIN=\"./train.csv\"\n",
    "    PATH_TEST=\"./test.csv\"\n",
    "    PATH_SUBMIT_EXAMPLE=\"./sample_submission.csv\"\n",
    "    TARGET_COL=\"label\"\n",
    "    RANDOM_STATE=32\n",
    "    IMG_DIMETIONS=(28,28,1)"
   ]
  },
  {
   "cell_type": "code",
   "execution_count": 10,
   "outputs": [
    {
     "name": "stdout",
     "output_type": "stream",
     "text": [
      "Num GPUs Available:  0\n"
     ]
    }
   ],
   "source": [
    "gpus = tf.config.list_physical_devices('GPU')\n",
    "print(\"Num GPUs Available: \", len(gpus))"
   ],
   "metadata": {
    "collapsed": false,
    "pycharm": {
     "name": "#%%\n"
    }
   }
  },
  {
   "cell_type": "code",
   "execution_count": 9,
   "id": "51144860",
   "metadata": {
    "execution": {
     "iopub.execute_input": "2022-03-09T15:17:06.015640Z",
     "iopub.status.busy": "2022-03-09T15:17:06.014942Z",
     "iopub.status.idle": "2022-03-09T15:17:11.803242Z",
     "shell.execute_reply": "2022-03-09T15:17:11.802687Z",
     "shell.execute_reply.started": "2022-03-04T07:49:05.702107Z"
    },
    "papermill": {
     "duration": 5.80842,
     "end_time": "2022-03-09T15:17:11.803445",
     "exception": false,
     "start_time": "2022-03-09T15:17:05.995025",
     "status": "completed"
    },
    "tags": [],
    "pycharm": {
     "name": "#%%\n"
    }
   },
   "outputs": [],
   "source": [
    "df_train=pd.read_csv(Config.PATH_TRAIN)\n",
    "df_test=pd.read_csv(Config.PATH_TEST)"
   ]
  },
  {
   "cell_type": "code",
   "execution_count": 10,
   "id": "d0cc458e",
   "metadata": {
    "execution": {
     "iopub.execute_input": "2022-03-09T15:17:11.848238Z",
     "iopub.status.busy": "2022-03-09T15:17:11.847550Z",
     "iopub.status.idle": "2022-03-09T15:17:11.964303Z",
     "shell.execute_reply": "2022-03-09T15:17:11.963674Z",
     "shell.execute_reply.started": "2022-03-04T07:49:09.498842Z"
    },
    "papermill": {
     "duration": 0.143926,
     "end_time": "2022-03-09T15:17:11.964469",
     "exception": false,
     "start_time": "2022-03-09T15:17:11.820543",
     "status": "completed"
    },
    "tags": [],
    "pycharm": {
     "name": "#%%\n"
    }
   },
   "outputs": [],
   "source": [
    "X=df_train.drop([Config.TARGET_COL],axis=1)\n",
    "X=X.values\n",
    "y=df_train[[Config.TARGET_COL]]"
   ]
  },
  {
   "cell_type": "code",
   "execution_count": 33,
   "id": "3449ec71",
   "metadata": {
    "execution": {
     "iopub.execute_input": "2022-03-09T15:17:12.004276Z",
     "iopub.status.busy": "2022-03-09T15:17:12.003619Z",
     "iopub.status.idle": "2022-03-09T15:17:12.010075Z",
     "shell.execute_reply": "2022-03-09T15:17:12.009518Z",
     "shell.execute_reply.started": "2022-03-04T07:49:09.610595Z"
    },
    "papermill": {
     "duration": 0.027613,
     "end_time": "2022-03-09T15:17:12.010224",
     "exception": false,
     "start_time": "2022-03-09T15:17:11.982611",
     "status": "completed"
    },
    "tags": [],
    "pycharm": {
     "name": "#%%\n"
    }
   },
   "outputs": [],
   "source": [
    "X=X.reshape((X.shape[0],*Config.IMG_DIMETIONS))\n",
    "y_onehot=np.eye(10)[y].reshape((y.shape[0],10))"
   ]
  },
  {
   "cell_type": "code",
   "execution_count": 12,
   "id": "02dc2673",
   "metadata": {
    "execution": {
     "iopub.execute_input": "2022-03-09T15:17:12.052142Z",
     "iopub.status.busy": "2022-03-09T15:17:12.051199Z",
     "iopub.status.idle": "2022-03-09T15:17:12.493027Z",
     "shell.execute_reply": "2022-03-09T15:17:12.492437Z",
     "shell.execute_reply.started": "2022-03-04T07:49:09.617234Z"
    },
    "papermill": {
     "duration": 0.465515,
     "end_time": "2022-03-09T15:17:12.493168",
     "exception": false,
     "start_time": "2022-03-09T15:17:12.027653",
     "status": "completed"
    },
    "tags": [],
    "pycharm": {
     "name": "#%%\n"
    }
   },
   "outputs": [
    {
     "name": "stdout",
     "output_type": "stream",
     "text": [
      "105/919 [==>...........................] - ETA: 42s - loss: 0.0615 - accuracy: 0.9818"
     ]
    }
   ],
   "source": [
    "X_train, X_val, y_train, y_val = train_test_split(X, y_onehot, test_size=0.3, random_state=Config.RANDOM_STATE)"
   ]
  },
  {
   "cell_type": "code",
   "execution_count": 13,
   "id": "a4615186",
   "metadata": {
    "execution": {
     "iopub.execute_input": "2022-03-09T15:17:12.538036Z",
     "iopub.status.busy": "2022-03-09T15:17:12.537163Z",
     "iopub.status.idle": "2022-03-09T15:27:11.468638Z",
     "shell.execute_reply": "2022-03-09T15:27:11.469297Z",
     "shell.execute_reply.started": "2022-03-04T07:49:10.133042Z"
    },
    "papermill": {
     "duration": 598.959358,
     "end_time": "2022-03-09T15:27:11.469540",
     "exception": false,
     "start_time": "2022-03-09T15:17:12.510182",
     "status": "completed"
    },
    "tags": [],
    "pycharm": {
     "name": "#%%\n"
    }
   },
   "outputs": [
    {
     "name": "stdout",
     "output_type": "stream",
     "text": [
      "Epoch 1/10\n",
      "919/919 [==============================] - 59s 58ms/step - loss: 0.4104 - accuracy: 0.8698 - val_loss: 0.1233 - val_accuracy: 0.9652\n",
      "Epoch 2/10\n",
      "919/919 [==============================] - 40s 43ms/step - loss: 0.1391 - accuracy: 0.9572 - val_loss: 0.0557 - val_accuracy: 0.9828\n",
      "Epoch 3/10\n",
      "919/919 [==============================] - 47s 51ms/step - loss: 0.1049 - accuracy: 0.9682 - val_loss: 0.0577 - val_accuracy: 0.9829\n",
      "Epoch 4/10\n",
      "919/919 [==============================] - 60s 65ms/step - loss: 0.0916 - accuracy: 0.9724 - val_loss: 0.1553 - val_accuracy: 0.9525\n",
      "Epoch 5/10\n",
      "919/919 [==============================] - 65s 70ms/step - loss: 0.0849 - accuracy: 0.9741 - val_loss: 0.0599 - val_accuracy: 0.9860\n",
      "Epoch 6/10\n",
      "919/919 [==============================] - 68s 74ms/step - loss: 0.0792 - accuracy: 0.9770 - val_loss: 0.0545 - val_accuracy: 0.9839\n",
      "Epoch 7/10\n",
      "919/919 [==============================] - 59s 65ms/step - loss: 0.0985 - accuracy: 0.9708 - val_loss: 0.0778 - val_accuracy: 0.9832\n",
      "Epoch 8/10\n",
      "919/919 [==============================] - 65s 70ms/step - loss: 0.0693 - accuracy: 0.9796 - val_loss: 0.0738 - val_accuracy: 0.9859\n",
      "Epoch 9/10\n",
      "919/919 [==============================] - 63s 69ms/step - loss: 0.0605 - accuracy: 0.9816 - val_loss: 0.0420 - val_accuracy: 0.9882\n",
      "Epoch 10/10\n",
      "919/919 [==============================] - 59s 64ms/step - loss: 0.0637 - accuracy: 0.9819 - val_loss: 0.0591 - val_accuracy: 0.9871\n"
     ]
    }
   ],
   "source": [
    "model = keras.Sequential([\n",
    "    layers.InputLayer(input_shape=(Config.IMG_DIMETIONS)),\n",
    "    \n",
    "    layers.Conv2D(64, kernel_size=4, strides=1, activation='relu'),\n",
    "    layers.Conv2D(64, kernel_size=4, strides=2, activation='relu'),\n",
    "    \n",
    "    layers.Dropout(0.5),\n",
    "    layers.Conv2D(128, kernel_size=4, strides=1, activation='relu'),\n",
    "    layers.Conv2D(128, kernel_size=4, strides=2, activation='relu'),\n",
    "    \n",
    "    layers.Flatten(),\n",
    "    layers.BatchNormalization(),\n",
    "    layers.Dropout(0.4),\n",
    "    layers.Dense(256, activation='relu'),\n",
    "    \n",
    "    layers.Dropout(0.4),\n",
    "    layers.Dense(256, activation='relu'),\n",
    "    layers.Dense(10, activation='softmax')    \n",
    "])\n",
    "model.compile(\n",
    "    optimizer='adam',\n",
    "    loss='categorical_crossentropy',\n",
    "    metrics=['accuracy'],\n",
    ")\n",
    "history=model.fit(\n",
    "    X_train,y_train,\n",
    "    validation_data=(X_val,y_val),\n",
    "    epochs=10,\n",
    "    verbose=1\n",
    ")"
   ]
  },
  {
   "cell_type": "code",
   "execution_count": 14,
   "id": "ccdb68ee",
   "metadata": {
    "execution": {
     "iopub.execute_input": "2022-03-09T15:27:18.190953Z",
     "iopub.status.busy": "2022-03-09T15:27:18.190167Z",
     "iopub.status.idle": "2022-03-09T15:27:18.683451Z",
     "shell.execute_reply": "2022-03-09T15:27:18.682661Z",
     "shell.execute_reply.started": "2022-03-04T07:58:10.107044Z"
    },
    "papermill": {
     "duration": 3.825477,
     "end_time": "2022-03-09T15:27:18.683628",
     "exception": false,
     "start_time": "2022-03-09T15:27:14.858151",
     "status": "completed"
    },
    "tags": [],
    "pycharm": {
     "name": "#%%\n"
    }
   },
   "outputs": [
    {
     "data": {
      "text/plain": "<Figure size 432x288 with 1 Axes>",
      "image/png": "[encoded data removed]"
     },
     "metadata": {},
     "output_type": "display_data"
    },
    {
     "data": {
      "text/plain": "<Figure size 432x288 with 1 Axes>",
      "image/png": "[encoded data removed]"
     },
     "metadata": {},
     "output_type": "display_data"
    }
   ],
   "source": [
    "history_frame = pd.DataFrame(history.history)\n",
    "history_frame.loc[:, ['loss', 'val_loss']].plot()\n",
    "history_frame.loc[:, ['accuracy', 'val_accuracy']].plot();"
   ]
  },
  {
   "cell_type": "code",
   "execution_count": 15,
   "id": "88a6bc28",
   "metadata": {
    "execution": {
     "iopub.execute_input": "2022-03-09T15:27:25.386076Z",
     "iopub.status.busy": "2022-03-09T15:27:25.385414Z",
     "iopub.status.idle": "2022-03-09T15:27:31.973309Z",
     "shell.execute_reply": "2022-03-09T15:27:31.972589Z",
     "shell.execute_reply.started": "2022-03-04T08:05:19.855954Z"
    },
    "papermill": {
     "duration": 9.915347,
     "end_time": "2022-03-09T15:27:31.973493",
     "exception": false,
     "start_time": "2022-03-09T15:27:22.058146",
     "status": "completed"
    },
    "tags": [],
    "pycharm": {
     "name": "#%%\n"
    }
   },
   "outputs": [],
   "source": [
    "y_pred_one_hot = model.predict(X_val)\n",
    "y_pred = np.argmax(y_pred_one_hot, axis=1)"
   ]
  },
  {
   "cell_type": "code",
   "execution_count": 16,
   "id": "67e9d1ff",
   "metadata": {
    "execution": {
     "iopub.execute_input": "2022-03-09T15:27:38.742686Z",
     "iopub.status.busy": "2022-03-09T15:27:38.742013Z",
     "iopub.status.idle": "2022-03-09T15:27:45.788091Z",
     "shell.execute_reply": "2022-03-09T15:27:45.787466Z",
     "shell.execute_reply.started": "2022-03-04T08:08:18.240921Z"
    },
    "papermill": {
     "duration": 10.485671,
     "end_time": "2022-03-09T15:27:45.788238",
     "exception": false,
     "start_time": "2022-03-09T15:27:35.302567",
     "status": "completed"
    },
    "tags": [],
    "pycharm": {
     "name": "#%%\n"
    }
   },
   "outputs": [
    {
     "data": {
      "text/plain": "<Figure size 432x288 with 2 Axes>",
      "image/png": "[encoded data removed]"
     },
     "metadata": {},
     "output_type": "display_data"
    },
    {
     "name": "stdout",
     "output_type": "stream",
     "text": [
      "394/394 [==============================] - 4s 9ms/step - loss: 0.0591 - accuracy: 0.9871\n",
      "Loss = 0.059082139283418655\n",
      "Accuracy(Test Data)= 0.987063467502594\n"
     ]
    }
   ],
   "source": [
    "confusion_matrix = tf.math.confusion_matrix(np.argmax(y_val, axis=1),y_pred)\n",
    "ax=sns.heatmap(confusion_matrix,annot=True, fmt=\"d\")\n",
    "ax.set_xlabel(\"Predict\",size=18);\n",
    "ax.set_ylabel(\"Target\",size=18);\n",
    "ax.set_title(\"Target vs Predict\",size=20);\n",
    "plt.show()\n",
    "\n",
    "evaluations = model.evaluate(x=X_val, y=y_val)\n",
    "acc = keras.metrics.Accuracy()\n",
    "\n",
    "print (\"Loss = \" + str(evaluations[0]))\n",
    "print (\"Accuracy(Test Data)= \" + str(evaluations[1]))"
   ]
  },
  {
   "cell_type": "markdown",
   "source": [
    "# Save Model and Try it"
   ],
   "metadata": {
    "collapsed": false,
    "pycharm": {
     "name": "#%% md\n"
    }
   }
  },
  {
   "cell_type": "code",
   "execution_count": null,
   "outputs": [],
   "source": [
    "model.save(\"cnn-digit-recognizer98acc.h5\")"
   ],
   "metadata": {
    "collapsed": false,
    "pycharm": {
     "name": "#%%\n"
    }
   }
  },
  {
   "cell_type": "code",
   "execution_count": null,
   "outputs": [],
   "source": [
    "from PIL import Image\n",
    "\n",
    "image = Image.open('5.png')\n",
    "print(image.size)\n",
    "image=image.resize((28, 28))\n",
    "print(image.size)\n",
    "image = image.convert('L')\n",
    "digit = np.asarray(image)\n",
    "def f(x): # To high contrast\n",
    "    if x>=250:\n",
    "        return 0\n",
    "    else:\n",
    "        return x\n",
    "digit=np.vectorize(f)(digit)\n",
    "digit=digit.reshape((1,*Config.IMG_DIMETIONS))"
   ],
   "metadata": {
    "collapsed": false,
    "pycharm": {
     "name": "#%%\n"
    }
   }
  },
  {
   "cell_type": "code",
   "execution_count": null,
   "outputs": [],
   "source": [
    "pred_one_hot=model.predict(digit)\n",
    "y_pred = np.argmax(pred_one_hot, axis=1)\n",
    "y_pred"
   ],
   "metadata": {
    "collapsed": false,
    "pycharm": {
     "name": "#%%\n"
    }
   }
  },
  {
   "cell_type": "code",
   "execution_count": null,
   "outputs": [],
   "source": [],
   "metadata": {
    "collapsed": false,
    "pycharm": {
     "name": "#%%\n"
    }
   }
  }
 ],
 "metadata": {
  "kernelspec": {
   "display_name": "Python 3",
   "language": "python",
   "name": "python3"
  },
  "language_info": {
   "codemirror_mode": {
    "name": "ipython",
    "version": 3
   },
   "file_extension": ".py",
   "mimetype": "text/x-python",
   "name": "python",
   "nbconvert_exporter": "python",
   "pygments_lexer": "ipython3",
   "version": "3.7.12"
  },
  "papermill": {
   "default_parameters": {},
   "duration": 717.826007,
   "end_time": "2022-03-09T15:28:46.666928",
   "environment_variables": {},
   "exception": null,
   "input_path": "__notebook__.ipynb",
   "output_path": "__notebook__.ipynb",
   "parameters": {},
   "start_time": "2022-03-09T15:16:48.840921",
   "version": "2.3.3"
  }
 },
 "nbformat": 4,
 "nbformat_minor": 5
}